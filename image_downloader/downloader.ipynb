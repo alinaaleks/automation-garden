{
 "cells": [
  {
   "cell_type": "markdown",
   "id": "4bfc3889-af7a-4669-9eeb-21da1970bcc4",
   "metadata": {},
   "source": [
    "# 🖼️ Image Downloader from Airtable\n",
    "\n",
    "A script to fetch images stored in an Airtable base using its API.\n",
    "Fully adaptable for various tables and fields—just plug and play!\n",
    "\n",
    "---\n",
    "\n",
    "## 📦 1. Introduction\n",
    "\n",
    "This notebook allows you to download all image files from a specific field in your Airtable base.\n",
    "\n",
    "---\n",
    "\n",
    "## 🛠️ 2. Setup\n",
    "\n",
    "- Python 3.x\n",
    "- Required libraries: `requests`, `os`, `re`\n",
    "- Inputs needed:\n",
    "  - Airtable API token\n",
    "  - Base ID\n",
    "  - Table name\n",
    "  - Name of the field that contains images\n",
    "\n",
    "---\n",
    "\n",
    "## 🔐 3. Authentication & API Request\n",
    "\n",
    "- Use `requests` with appropriate headers\n",
    "- Handle pagination (`offset`) if your base is large\n",
    "\n",
    "---\n",
    "\n",
    "## 🧠 4. Parsing the JSON Response\n",
    "\n",
    "- Loop through records\n",
    "- Extract image attachment URLs\n",
    "- Sanitize filenames to ensure safe saving\n",
    "\n",
    "---\n",
    "\n",
    "## 💾 5. Downloading the Images\n",
    "\n",
    "- Save files into your local folder\n",
    "- Handle duplicates or naming collisions if needed\n",
    "- Optionally limit number of downloads (e.g. 500 max)\n",
    "\n",
    "---\n",
    "\n",
    "## 🌀 6. Wrapping It All Together\n",
    "\n",
    "You can reuse this structure for other Airtable tables:\n",
    "- Replace the `FIELD_NAME` with any attachment field\n",
    "- Modify folder logic if organizing by category or tag\n",
    "\n",
    "---\n",
    "\n",
    "## 📜 7. Example Output\n",
    "\n",
    "```plaintext\n",
    "Downloading lemon_cake.jpg\n",
    "Downloading homemade_pasta.png\n",
    "✨ Downloaded 128 images!\n"
   ]
  },
  {
   "cell_type": "code",
   "execution_count": null,
   "id": "599492bd-f35f-4bee-ae95-5ad472b311e0",
   "metadata": {},
   "outputs": [],
   "source": [
    "# for consideration:\n",
    "# downloading and giving a specific name (maybe depending on another field of the table, like name or id)\n",
    "# how can it become more universal?\n",
    "# how to download images that are dynamically generated?"
   ]
  }
 ],
 "metadata": {
  "kernelspec": {
   "display_name": "Python 3 (ipykernel)",
   "language": "python",
   "name": "python3"
  },
  "language_info": {
   "codemirror_mode": {
    "name": "ipython",
    "version": 3
   },
   "file_extension": ".py",
   "mimetype": "text/x-python",
   "name": "python",
   "nbconvert_exporter": "python",
   "pygments_lexer": "ipython3",
   "version": "3.12.9"
  }
 },
 "nbformat": 4,
 "nbformat_minor": 5
}
